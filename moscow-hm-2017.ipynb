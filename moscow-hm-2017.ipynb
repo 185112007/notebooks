{
 "cells": [
  {
   "cell_type": "markdown",
   "metadata": {
    "collapsed": true
   },
   "source": [
    "# Московский полумарафон \"Лужники\", 13 августа 2017\n",
    "\n",
    "by [Sergey Bronnikov](https://bronevichok.ru/), BSD license\n",
    "![OpenBSD logo](http://moscowmarathon.org/static/img/home/marathon/logo-luzhniki.png?1)"
   ]
  },
  {
   "cell_type": "code",
   "execution_count": 42,
   "metadata": {},
   "outputs": [],
   "source": [
    "# -*- coding: utf-8 -*-\n",
    "import pandas as pd\n",
    "import json\n",
    "import itertools\n",
    "import collections\n",
    "import numpy\n",
    "import re\n",
    "import datetime\n",
    "import arrow\n",
    "import matplotlib.pyplot as plt\n",
    "plt.rcParams[\"figure.figsize\"] = (15,3)\n",
    "plt.show(block=True)"
   ]
  },
  {
   "cell_type": "markdown",
   "metadata": {},
   "source": [
    "## Мужчины"
   ]
  },
  {
   "cell_type": "code",
   "execution_count": 83,
   "metadata": {},
   "outputs": [
    {
     "name": "stdout",
     "output_type": "stream",
     "text": [
      "[(u'Grigorev', u'Oleg'), (u'Сафронов', u'Андрей'), (u'Логинов', u'Виталий'), (u'Барышников', u'Андрей'), (u'Щукин', u'Владислав')]\n"
     ]
    }
   ],
   "source": [
    "mens = json.load(open('data/20170813_luzhniki_hm_m_21_1km.json'))\n",
    "male = [runner for runner in mens['data'] if runner[9] != \"DQ\"]\n",
    "print repr([(runner[3], runner[4]) for runner in male[:5]]).decode('unicode_escape')"
   ]
  },
  {
   "cell_type": "code",
   "execution_count": 94,
   "metadata": {
    "scrolled": true
   },
   "outputs": [
    {
     "name": "stdout",
     "output_type": "stream",
     "text": [
      "Лучшее время у мужчин:  1:09:17\n",
      "Худшее время у мужчин:  3:16:52\n",
      "Всего финишировавших мужчин:  3910\n"
     ]
    }
   ],
   "source": [
    "print \"Лучшее время у мужчин: \", male[0][9]\n",
    "print \"Худшее время у мужчин: \", male[-1][9]\n",
    "print \"Всего финишировавших мужчин: \", len(male)"
   ]
  },
  {
   "cell_type": "code",
   "execution_count": 85,
   "metadata": {},
   "outputs": [
    {
     "data": {
      "text/html": [
       "<div>\n",
       "<style>\n",
       "    .dataframe thead tr:only-child th {\n",
       "        text-align: right;\n",
       "    }\n",
       "\n",
       "    .dataframe thead th {\n",
       "        text-align: left;\n",
       "    }\n",
       "\n",
       "    .dataframe tbody tr th {\n",
       "        vertical-align: top;\n",
       "    }\n",
       "</style>\n",
       "<table border=\"1\" class=\"dataframe\">\n",
       "  <thead>\n",
       "    <tr style=\"text-align: right;\">\n",
       "      <th></th>\n",
       "      <th>city</th>\n",
       "    </tr>\n",
       "    <tr>\n",
       "      <th>team</th>\n",
       "      <th></th>\n",
       "    </tr>\n",
       "  </thead>\n",
       "  <tbody>\n",
       "    <tr>\n",
       "      <th></th>\n",
       "      <td>2505</td>\n",
       "    </tr>\n",
       "    <tr>\n",
       "      <th>#Viktorlee</th>\n",
       "      <td>1</td>\n",
       "    </tr>\n",
       "    <tr>\n",
       "      <th>#rusnanorun</th>\n",
       "      <td>1</td>\n",
       "    </tr>\n",
       "    <tr>\n",
       "      <th>#БегущийМедведь</th>\n",
       "      <td>1</td>\n",
       "    </tr>\n",
       "    <tr>\n",
       "      <th>#ЖукRUN</th>\n",
       "      <td>1</td>\n",
       "    </tr>\n",
       "  </tbody>\n",
       "</table>\n",
       "</div>"
      ],
      "text/plain": [
       "                 city\n",
       "team                 \n",
       "                 2505\n",
       "#Viktorlee          1\n",
       "#rusnanorun         1\n",
       "#БегущийМедведь     1\n",
       "#ЖукRUN             1"
      ]
     },
     "execution_count": 85,
     "metadata": {},
     "output_type": "execute_result"
    }
   ],
   "source": [
    "male_teams = lambda: (\n",
    "    ((runner[8], runner[7]) for runner in male))\n",
    "\n",
    "dfmt = pd.DataFrame(male_teams(), columns=['team', 'city'])\n",
    "dfmt = dfmt.groupby('team').aggregate(len)\n",
    "dfmt.head()"
   ]
  },
  {
   "cell_type": "code",
   "execution_count": 52,
   "metadata": {},
   "outputs": [
    {
     "data": {
      "text/plain": [
       "<matplotlib.text.Text at 0x114158c50>"
      ]
     },
     "execution_count": 52,
     "metadata": {},
     "output_type": "execute_result"
    }
   ],
   "source": [
    "pmt = dfmt.plot(legend=False)\n",
    "pmt.set_title('Running teams (male)')\n",
    "pmt.set_ylabel('Bugs')"
   ]
  },
  {
   "cell_type": "markdown",
   "metadata": {},
   "source": [
    "## Женщины"
   ]
  },
  {
   "cell_type": "code",
   "execution_count": 86,
   "metadata": {
    "scrolled": true
   },
   "outputs": [
    {
     "name": "stdout",
     "output_type": "stream",
     "text": [
      "[(u'Конякина', u'Юлия'), (u'Попкова', u'Наталья'), (u'Сидорова', u'Алла'), (u'Чудайкина', u'Дарья'), (u'Тарантинова', u'Ольга')]\n"
     ]
    }
   ],
   "source": [
    "womans = json.load(open('data/20170813_luzhniki_hm_f_21_1km.json'))\n",
    "female = [runner for runner in womans['data'] if runner[9] != \"DQ\"]\n",
    "\n",
    "print repr([(runner[3], runner[4]) for runner in female[:5]]).decode('unicode_escape')"
   ]
  },
  {
   "cell_type": "code",
   "execution_count": 93,
   "metadata": {
    "scrolled": true
   },
   "outputs": [
    {
     "name": "stdout",
     "output_type": "stream",
     "text": [
      "Лучшее время у женщин:  1:18:00\n",
      "Худшее время у женщин:  3:08:22\n",
      "Всего финишировавших женщин:  1612\n"
     ]
    }
   ],
   "source": [
    "print \"Лучшее время у женщин: \", female[0][9]\n",
    "print \"Худшее время у женщин: \", female[-1][9]\n",
    "print \"Всего финишировавших женщин: \", len(female)"
   ]
  },
  {
   "cell_type": "code",
   "execution_count": 88,
   "metadata": {},
   "outputs": [
    {
     "data": {
      "text/html": [
       "<div>\n",
       "<style>\n",
       "    .dataframe thead tr:only-child th {\n",
       "        text-align: right;\n",
       "    }\n",
       "\n",
       "    .dataframe thead th {\n",
       "        text-align: left;\n",
       "    }\n",
       "\n",
       "    .dataframe tbody tr th {\n",
       "        vertical-align: top;\n",
       "    }\n",
       "</style>\n",
       "<table border=\"1\" class=\"dataframe\">\n",
       "  <thead>\n",
       "    <tr style=\"text-align: right;\">\n",
       "      <th></th>\n",
       "      <th>city</th>\n",
       "    </tr>\n",
       "    <tr>\n",
       "      <th>team</th>\n",
       "      <th></th>\n",
       "    </tr>\n",
       "  </thead>\n",
       "  <tbody>\n",
       "    <tr>\n",
       "      <th></th>\n",
       "      <td>1</td>\n",
       "    </tr>\n",
       "    <tr>\n",
       "      <th>#Viktorlee</th>\n",
       "      <td>1</td>\n",
       "    </tr>\n",
       "    <tr>\n",
       "      <th>#rusnanorun</th>\n",
       "      <td>1</td>\n",
       "    </tr>\n",
       "    <tr>\n",
       "      <th>#БегущийМедведь</th>\n",
       "      <td>1</td>\n",
       "    </tr>\n",
       "    <tr>\n",
       "      <th>#ЖукRUN</th>\n",
       "      <td>1</td>\n",
       "    </tr>\n",
       "  </tbody>\n",
       "</table>\n",
       "</div>"
      ],
      "text/plain": [
       "                 city\n",
       "team                 \n",
       "                    1\n",
       "#Viktorlee          1\n",
       "#rusnanorun         1\n",
       "#БегущийМедведь     1\n",
       "#ЖукRUN             1"
      ]
     },
     "execution_count": 88,
     "metadata": {},
     "output_type": "execute_result"
    }
   ],
   "source": [
    "female_teams = lambda: (\n",
    "    ((runner[8], runner[7]) for runner in male))\n",
    "\n",
    "dfft = pd.DataFrame(female_teams(), columns=['team', 'city'])\n",
    "dfft = dfmt.groupby('team').aggregate(len)\n",
    "dfft.head()"
   ]
  },
  {
   "cell_type": "code",
   "execution_count": 89,
   "metadata": {},
   "outputs": [
    {
     "data": {
      "text/plain": [
       "<matplotlib.text.Text at 0x112eeeb10>"
      ]
     },
     "execution_count": 89,
     "metadata": {},
     "output_type": "execute_result"
    }
   ],
   "source": [
    "pft = dfft.plot(legend=False)\n",
    "pft.set_title('Running teams (female)')\n",
    "pft.set_ylabel('Bugs')"
   ]
  },
  {
   "cell_type": "markdown",
   "metadata": {},
   "source": [
    "## Общие данные"
   ]
  },
  {
   "cell_type": "code",
   "execution_count": 92,
   "metadata": {},
   "outputs": [
    {
     "name": "stdout",
     "output_type": "stream",
     "text": [
      "Всего финишировавших участников:  5522\n",
      "Самый молодой участник 18 [3029, 3808, 5414, u'Егоршев', u'Иван', 18, u'Russia', u'Москва', u'', u'2:19:31', u'10:10:00', u'0:25:27', u'0:56:42', u'1:32:34', u'2:11:46']\n",
      "Самый старый участник 82 [2839, 3509, 488, u'Новиков', u'Владимр', 82, u'Russia', u'ФРЯЗИНО', u'Спутник', u'2:15:46', u'10:10:00', u'0:30:21', u'1:02:38', u'1:35:41', u'2:08:39']\n"
     ]
    }
   ],
   "source": [
    "total = female + male\n",
    "print \"Всего финишировавших участников: \", len(total)\n",
    "\n",
    "min = 100\n",
    "max = 0\n",
    "imin = 0\n",
    "imax = 0\n",
    "index = 0\n",
    "for runner in total:\n",
    "    if min >= runner[5]:\n",
    "        min = runner[5]\n",
    "        imin = index\n",
    "        \n",
    "    if max < runner[5]:\n",
    "        max = runner[5]\n",
    "        imax = index\n",
    "    index = index + 1\n",
    "\n",
    "print \"Самый молодой участник\", min, repr(total[imin]).decode('unicode_escape')\n",
    "print \"Самый старый участник\", max, repr(total[imax]).decode('unicode_escape')"
   ]
  },
  {
   "cell_type": "markdown",
   "metadata": {},
   "source": [
    "### TODO\n",
    "\n",
    "- распределение по времени преодоления дистанции\n",
    "- общее количество беговых клубов и количество участников из каждого клуба\n",
    "- общее количество городов и количество участников из каждого города\n",
    "- общее количество стран и количество участников из каждой страны\n",
    "- средний пейс на каждом сплите (где больше всего скорость падала?)\n",
    "- распределение возрастов спортсменов-участников\n",
    "- карта с городами-участниками\n",
    "- распределение по клубам первой сотни бегунов"
   ]
  }
 ],
 "metadata": {
  "kernelspec": {
   "display_name": "Python 2",
   "language": "python",
   "name": "python2"
  },
  "language_info": {
   "codemirror_mode": {
    "name": "ipython",
    "version": 2
   },
   "file_extension": ".py",
   "mimetype": "text/x-python",
   "name": "python",
   "nbconvert_exporter": "python",
   "pygments_lexer": "ipython2",
   "version": "2.7.12"
  }
 },
 "nbformat": 4,
 "nbformat_minor": 1
}
