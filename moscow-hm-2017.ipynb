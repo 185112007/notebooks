{
 "cells": [
  {
   "cell_type": "markdown",
   "metadata": {
    "collapsed": true
   },
   "source": [
    "# Московский полумарафон \"Лужники\", 13 августа 2017\n",
    "\n",
    "by [Sergey Bronnikov](https://bronevichok.ru/), BSD license\n",
    "![OpenBSD logo](http://moscowmarathon.org/static/img/home/marathon/logo-luzhniki.png?1)"
   ]
  },
  {
   "cell_type": "markdown",
   "metadata": {},
   "source": [
    "## Общие данные"
   ]
  },
  {
   "cell_type": "code",
   "execution_count": 10,
   "metadata": {},
   "outputs": [],
   "source": [
    "# -*- coding: utf-8 -*-\n",
    "import pandas as pd\n",
    "import json\n",
    "import itertools\n",
    "import collections\n",
    "import numpy\n",
    "import re\n",
    "import datetime\n",
    "import arrow\n",
    "import matplotlib.pyplot as plt\n",
    "plt.rcParams[\"figure.figsize\"] = (15,3)\n",
    "plt.show(block=True)"
   ]
  },
  {
   "cell_type": "code",
   "execution_count": 15,
   "metadata": {},
   "outputs": [
    {
     "name": "stdout",
     "output_type": "stream",
     "text": [
      "[(u'Grigorev', u'Oleg'), (u'Сафронов', u'Андрей'), (u'Логинов', u'Виталий'), (u'Барышников', u'Андрей'), (u'Щукин', u'Владислав')]\n"
     ]
    }
   ],
   "source": [
    "runners = json.load(open('data/20170813_luzhniki_hm_m_21_1km.json'))\n",
    "print repr([(runner[3], runner[4]) for runner in log[\"data\"][:5]]).decode('unicode_escape')"
   ]
  },
  {
   "cell_type": "code",
   "execution_count": 23,
   "metadata": {
    "scrolled": true
   },
   "outputs": [
    {
     "name": "stdout",
     "output_type": "stream",
     "text": [
      "Лучшее время у мужчин:  1:09:17\n",
      "Всего мужчин:  3970\n"
     ]
    }
   ],
   "source": [
    "print \"Лучшее время у мужчин: \", runners[\"data\"][0][9]\n",
    "print \"Всего мужчин: \", len(runners[\"data\"])"
   ]
  }
 ],
 "metadata": {
  "kernelspec": {
   "display_name": "Python 2",
   "language": "python",
   "name": "python2"
  },
  "language_info": {
   "codemirror_mode": {
    "name": "ipython",
    "version": 2
   },
   "file_extension": ".py",
   "mimetype": "text/x-python",
   "name": "python",
   "nbconvert_exporter": "python",
   "pygments_lexer": "ipython2",
   "version": "2.7.12"
  }
 },
 "nbformat": 4,
 "nbformat_minor": 1
}
